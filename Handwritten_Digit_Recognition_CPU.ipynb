{
  "cells": [
    {
      "cell_type": "markdown",
      "metadata": {
        "id": "69O4AUOaa-uM"
      },
      "source": [
        "# Handwritten Digit Recognition\n",
        "\n",
        "This notebook demonstrates how to use PyTorch to build and train a simple neural network for handwritten digit recognition using the MNIST dataset.\n",
        "\n",
        "The MNIST dataset contains 28x28 grayscale images of handwritten digits. The task is to classify each image into one of the 10 classes (0-9).\n",
        "\n",
        "<img src=\"https://machinelearningmastery.com/wp-content/uploads/2019/02/Plot-of-a-Subset-of-Images-from-the-MNIST-Dataset.png\" alt=\"Example Image\" style=\"width:300px;height:200px;\">"
      ]
    },
    {
      "cell_type": "markdown",
      "metadata": {
        "id": "oGjRmijsaXJ3"
      },
      "source": [
        "### Necessary Imports\n",
        "\n",
        "We will import the required libraries to handle data loading, transformations, model building, and training.\n"
      ]
    },
    {
      "cell_type": "code",
      "execution_count": null,
      "metadata": {
        "id": "TOyGrPT5ASDc"
      },
      "outputs": [],
      "source": [
        "# Import necessary packages\n",
        "%matplotlib inline\n",
        "%config InlineBackend.figure_format = 'retina'\n",
        "\n",
        "import numpy as np\n",
        "import torch\n",
        "import torchvision\n",
        "import matplotlib.pyplot as plt\n",
        "from time import time"
      ]
    },
    {
      "cell_type": "code",
      "execution_count": null,
      "metadata": {
        "id": "XPuuTDEfAfDy"
      },
      "outputs": [],
      "source": [
        "import os\n",
        "from google.colab import drive"
      ]
    },
    {
      "cell_type": "markdown",
      "metadata": {
        "id": "uLdtrS4zaeEs"
      },
      "source": [
        "### Download The Dataset & Define The Transforms\n",
        "\n",
        "The MNIST dataset is available in torchvision. We will download it and define the necessary transformations to convert the images to tensors and normalize them.\n"
      ]
    },
    {
      "cell_type": "code",
      "execution_count": null,
      "metadata": {
        "id": "sZD2NGz2Ak6w",
        "colab": {
          "base_uri": "https://localhost:8080/"
        },
        "outputId": "45756061-8897-42df-c099-07aa53f3fb34"
      },
      "outputs": [
        {
          "output_type": "stream",
          "name": "stderr",
          "text": [
            "100%|██████████| 9.91M/9.91M [00:00<00:00, 16.1MB/s]\n",
            "100%|██████████| 28.9k/28.9k [00:00<00:00, 476kB/s]\n",
            "100%|██████████| 1.65M/1.65M [00:00<00:00, 4.41MB/s]\n",
            "100%|██████████| 4.54k/4.54k [00:00<00:00, 9.10MB/s]\n"
          ]
        }
      ],
      "source": [
        "from torchvision import datasets, transforms\n",
        "\n",
        "# Define a transform to normalize the data\n",
        "# - transforms.ToTensor() converts images to PyTorch tensors (and scales pixel values from [0,255] to [0,1])\n",
        "# - transforms.Normalize((0.5,), (0.5,)) shifts and scales the data to have mean 0 and range [-1, 1]\n",
        "transform = transforms.Compose([transforms.ToTensor(),\n",
        "                              transforms.Normalize((0.5,), (0.5,)),\n",
        "                              ])\n",
        "\n",
        "# Download and load the MNIST training dataset\n",
        "# - 'train=True' loads the training set\n",
        "# - 'transform=transform' applies the defined transformations to the images\n",
        "trainset = datasets.MNIST('drive/My Drive/mnist/MNIST_data/', download=True, train=True, transform=transform)\n",
        "\n",
        "# Download and load the MNIST validation (test) dataset\n",
        "# - 'train=False' loads the test set\n",
        "valset = datasets.MNIST('drive/My Drive/mnist/MNIST_data/', download=True, train=False, transform=transform)\n",
        "\n",
        "# Create a DataLoader for the training set\n",
        "# - 'batch_size=64' means 64 images will be loaded at a time\n",
        "# - 'shuffle=True' randomly shuffles the data every epoch for better training\n",
        "trainloader = torch.utils.data.DataLoader(trainset, batch_size=64, shuffle=True)\n",
        "\n",
        "# Create a DataLoader for the validation set\n",
        "# - Same batch size and shuffling for validation\n",
        "valloader = torch.utils.data.DataLoader(valset, batch_size=64, shuffle=True)"
      ]
    },
    {
      "cell_type": "markdown",
      "metadata": {
        "id": "GcAfrn2falkK"
      },
      "source": [
        "### Exploring The Data"
      ]
    },
    {
      "cell_type": "markdown",
      "metadata": {
        "id": "99BJ2YoMgLEE"
      },
      "source": [
        "Let's visualize some sample images from the dataset to understand what the data looks like.\n"
      ]
    },
    {
      "cell_type": "code",
      "execution_count": null,
      "metadata": {
        "id": "iXSIpsRMuWaH",
        "colab": {
          "base_uri": "https://localhost:8080/",
          "height": 290
        },
        "outputId": "766f8dbb-a174-47fb-804d-d8e9d2432f8e"
      },
      "outputs": [
        {
          "output_type": "execute_result",
          "data": {
            "text/plain": [
              "torch.utils.data.dataloader.DataLoader"
            ],
            "text/html": [
              "<div style=\"max-width:800px; border: 1px solid var(--colab-border-color);\"><style>\n",
              "      pre.function-repr-contents {\n",
              "        overflow-x: auto;\n",
              "        padding: 8px 12px;\n",
              "        max-height: 500px;\n",
              "      }\n",
              "\n",
              "      pre.function-repr-contents.function-repr-contents-collapsed {\n",
              "        cursor: pointer;\n",
              "        max-height: 100px;\n",
              "      }\n",
              "    </style>\n",
              "    <pre style=\"white-space: initial; background:\n",
              "         var(--colab-secondary-surface-color); padding: 8px 12px;\n",
              "         border-bottom: 1px solid var(--colab-border-color);\"><b>torch.utils.data.dataloader.DataLoader</b><br/>def __init__(dataset: Dataset[_T_co], batch_size: Optional[int]=1, shuffle: Optional[bool]=None, sampler: Union[Sampler, Iterable, None]=None, batch_sampler: Union[Sampler[List], Iterable[List], None]=None, num_workers: int=0, collate_fn: Optional[_collate_fn_t]=None, pin_memory: bool=False, drop_last: bool=False, timeout: float=0, worker_init_fn: Optional[_worker_init_fn_t]=None, multiprocessing_context=None, generator=None, *, prefetch_factor: Optional[int]=None, persistent_workers: bool=False, pin_memory_device: str=&#x27;&#x27;, in_order: bool=True)</pre><pre class=\"function-repr-contents function-repr-contents-collapsed\" style=\"\"><a class=\"filepath\" style=\"display:none\" href=\"#\">/usr/local/lib/python3.11/dist-packages/torch/utils/data/dataloader.py</a>Data loader combines a dataset and a sampler, and provides an iterable over the given dataset.\n",
              "\n",
              "The :class:`~torch.utils.data.DataLoader` supports both map-style and\n",
              "iterable-style datasets with single- or multi-process loading, customizing\n",
              "loading order and optional automatic batching (collation) and memory pinning.\n",
              "\n",
              "See :py:mod:`torch.utils.data` documentation page for more details.\n",
              "\n",
              "Args:\n",
              "    dataset (Dataset): dataset from which to load the data.\n",
              "    batch_size (int, optional): how many samples per batch to load\n",
              "        (default: ``1``).\n",
              "    shuffle (bool, optional): set to ``True`` to have the data reshuffled\n",
              "        at every epoch (default: ``False``).\n",
              "    sampler (Sampler or Iterable, optional): defines the strategy to draw\n",
              "        samples from the dataset. Can be any ``Iterable`` with ``__len__``\n",
              "        implemented. If specified, :attr:`shuffle` must not be specified.\n",
              "    batch_sampler (Sampler or Iterable, optional): like :attr:`sampler`, but\n",
              "        returns a batch of indices at a time. Mutually exclusive with\n",
              "        :attr:`batch_size`, :attr:`shuffle`, :attr:`sampler`,\n",
              "        and :attr:`drop_last`.\n",
              "    num_workers (int, optional): how many subprocesses to use for data\n",
              "        loading. ``0`` means that the data will be loaded in the main process.\n",
              "        (default: ``0``)\n",
              "    collate_fn (Callable, optional): merges a list of samples to form a\n",
              "        mini-batch of Tensor(s).  Used when using batched loading from a\n",
              "        map-style dataset.\n",
              "    pin_memory (bool, optional): If ``True``, the data loader will copy Tensors\n",
              "        into device/CUDA pinned memory before returning them.  If your data elements\n",
              "        are a custom type, or your :attr:`collate_fn` returns a batch that is a custom type,\n",
              "        see the example below.\n",
              "    drop_last (bool, optional): set to ``True`` to drop the last incomplete batch,\n",
              "        if the dataset size is not divisible by the batch size. If ``False`` and\n",
              "        the size of dataset is not divisible by the batch size, then the last batch\n",
              "        will be smaller. (default: ``False``)\n",
              "    timeout (numeric, optional): if positive, the timeout value for collecting a batch\n",
              "        from workers. Should always be non-negative. (default: ``0``)\n",
              "    worker_init_fn (Callable, optional): If not ``None``, this will be called on each\n",
              "        worker subprocess with the worker id (an int in ``[0, num_workers - 1]``) as\n",
              "        input, after seeding and before data loading. (default: ``None``)\n",
              "    multiprocessing_context (str or multiprocessing.context.BaseContext, optional): If\n",
              "        ``None``, the default `multiprocessing context`_ of your operating system will\n",
              "        be used. (default: ``None``)\n",
              "    generator (torch.Generator, optional): If not ``None``, this RNG will be used\n",
              "        by RandomSampler to generate random indexes and multiprocessing to generate\n",
              "        ``base_seed`` for workers. (default: ``None``)\n",
              "    prefetch_factor (int, optional, keyword-only arg): Number of batches loaded\n",
              "        in advance by each worker. ``2`` means there will be a total of\n",
              "        2 * num_workers batches prefetched across all workers. (default value depends\n",
              "        on the set value for num_workers. If value of num_workers=0 default is ``None``.\n",
              "        Otherwise, if value of ``num_workers &gt; 0`` default is ``2``).\n",
              "    persistent_workers (bool, optional): If ``True``, the data loader will not shut down\n",
              "        the worker processes after a dataset has been consumed once. This allows to\n",
              "        maintain the workers `Dataset` instances alive. (default: ``False``)\n",
              "    pin_memory_device (str, optional): the device to :attr:`pin_memory` to if ``pin_memory`` is\n",
              "        ``True``.\n",
              "    in_order (bool, optional): If ``False``, the data loader will not enforce that batches\n",
              "        are returned in a first-in, first-out order. Only applies when ``num_workers &gt; 0``. (default: ``True``)\n",
              "\n",
              "\n",
              ".. warning:: If the ``spawn`` start method is used, :attr:`worker_init_fn`\n",
              "             cannot be an unpicklable object, e.g., a lambda function. See\n",
              "             :ref:`multiprocessing-best-practices` on more details related\n",
              "             to multiprocessing in PyTorch.\n",
              "\n",
              ".. warning:: ``len(dataloader)`` heuristic is based on the length of the sampler used.\n",
              "             When :attr:`dataset` is an :class:`~torch.utils.data.IterableDataset`,\n",
              "             it instead returns an estimate based on ``len(dataset) / batch_size``, with proper\n",
              "             rounding depending on :attr:`drop_last`, regardless of multi-process loading\n",
              "             configurations. This represents the best guess PyTorch can make because PyTorch\n",
              "             trusts user :attr:`dataset` code in correctly handling multi-process\n",
              "             loading to avoid duplicate data.\n",
              "\n",
              "             However, if sharding results in multiple workers having incomplete last batches,\n",
              "             this estimate can still be inaccurate, because (1) an otherwise complete batch can\n",
              "             be broken into multiple ones and (2) more than one batch worth of samples can be\n",
              "             dropped when :attr:`drop_last` is set. Unfortunately, PyTorch can not detect such\n",
              "             cases in general.\n",
              "\n",
              "             See `Dataset Types`_ for more details on these two types of datasets and how\n",
              "             :class:`~torch.utils.data.IterableDataset` interacts with\n",
              "             `Multi-process data loading`_.\n",
              "\n",
              ".. warning:: See :ref:`reproducibility`, and :ref:`dataloader-workers-random-seed`, and\n",
              "             :ref:`data-loading-randomness` notes for random seed related questions.\n",
              "\n",
              ".. warning:: Setting `in_order` to `False` can harm reproducibility and may lead to a skewed data\n",
              "             distribution being fed to the trainer in cases with imbalanced data.\n",
              "\n",
              ".. _multiprocessing context:\n",
              "    https://docs.python.org/3/library/multiprocessing.html#contexts-and-start-methods</pre>\n",
              "      <script>\n",
              "      if (google.colab.kernel.accessAllowed && google.colab.files && google.colab.files.view) {\n",
              "        for (const element of document.querySelectorAll('.filepath')) {\n",
              "          element.style.display = 'block'\n",
              "          element.onclick = (event) => {\n",
              "            event.preventDefault();\n",
              "            event.stopPropagation();\n",
              "            google.colab.files.view(element.textContent, 130);\n",
              "          };\n",
              "        }\n",
              "      }\n",
              "      for (const element of document.querySelectorAll('.function-repr-contents')) {\n",
              "        element.onclick = (event) => {\n",
              "          event.preventDefault();\n",
              "          event.stopPropagation();\n",
              "          element.classList.toggle('function-repr-contents-collapsed');\n",
              "        };\n",
              "      }\n",
              "      </script>\n",
              "      </div>"
            ]
          },
          "metadata": {},
          "execution_count": 4
        }
      ],
      "source": [
        "# Check and display the type of the trainloader object (should be DataLoader)\n",
        "type(trainloader)"
      ]
    },
    {
      "cell_type": "code",
      "execution_count": null,
      "metadata": {
        "id": "xOjlOyjcCezX",
        "colab": {
          "base_uri": "https://localhost:8080/"
        },
        "outputId": "711957b3-5c39-4a25-d120-f2048622a31c"
      },
      "outputs": [
        {
          "output_type": "stream",
          "name": "stdout",
          "text": [
            "<class 'torch.Tensor'>\n",
            "torch.Size([64, 1, 28, 28])\n",
            "torch.Size([64])\n"
          ]
        }
      ],
      "source": [
        "# Create an iterator from the DataLoader\n",
        "dataiter = iter(trainloader)\n",
        "\n",
        "# Get the next batch of images and labels from the iterator\n",
        "images, labels = next(dataiter)\n",
        "\n",
        "# Print the type of 'images' (should be a torch.Tensor)\n",
        "print(type(images))\n",
        "\n",
        "# Print the shape of the 'images' tensor (should be [batch_size, channels, height, width])\n",
        "print(images.shape)\n",
        "\n",
        "# Print the shape of the 'labels' tensor (should be [batch_size])\n",
        "print(labels.shape)"
      ]
    },
    {
      "cell_type": "code",
      "execution_count": null,
      "metadata": {
        "id": "EuBvOWmGDHOq",
        "colab": {
          "base_uri": "https://localhost:8080/",
          "height": 447
        },
        "outputId": "e2ea25a5-f622-4733-bdcc-faa859bdd9a7"
      },
      "outputs": [
        {
          "output_type": "execute_result",
          "data": {
            "text/plain": [
              "<matplotlib.image.AxesImage at 0x7fc1c430cd10>"
            ]
          },
          "metadata": {},
          "execution_count": 6
        },
        {
          "output_type": "display_data",
          "data": {
            "text/plain": [
              "<Figure size 640x480 with 1 Axes>"
            ],
            "image/png": "[encoded data removed]"
          },
          "metadata": {
            "image/png": {
              "width": 417,
              "height": 413
            }
          }
        }
      ],
      "source": [
        "# Display the first image in the batch by converting it to a NumPy array, squeezing extra dimensions, and using a grayscale colormap\n",
        "plt.imshow(images[0].numpy().squeeze(), cmap='gray_r')"
      ]
    },
    {
      "cell_type": "code",
      "execution_count": null,
      "metadata": {
        "id": "F9CppCcqDLtB",
        "colab": {
          "base_uri": "https://localhost:8080/",
          "height": 395
        },
        "outputId": "46218546-637c-4002-d992-a647b576ace1"
      },
      "outputs": [
        {
          "output_type": "display_data",
          "data": {
            "text/plain": [
              "<Figure size 640x480 with 60 Axes>"
            ],
            "image/png": "[encoded data removed]"
          },
          "metadata": {
            "image/png": {
              "width": 515,
              "height": 378
            }
          }
        }
      ],
      "source": [
        "# Create a new figure for plotting multiple images\n",
        "figure = plt.figure()\n",
        "\n",
        "# Set the number of images you want to display\n",
        "num_of_images = 60\n",
        "\n",
        "# Loop through the first 60 images\n",
        "for index in range(1, num_of_images + 1):\n",
        "    # Create a subplot grid of 6 rows and 10 columns, and select the current index\n",
        "    plt.subplot(6, 10, index)\n",
        "\n",
        "    # Turn off axis labels for a cleaner look\n",
        "    plt.axis('off')\n",
        "\n",
        "    # Display the image after converting it to a NumPy array and squeezing dimensions\n",
        "    plt.imshow(images[index].numpy().squeeze(), cmap='gray_r')"
      ]
    },
    {
      "cell_type": "markdown",
      "metadata": {
        "id": "lGyau0mOaP2m"
      },
      "source": [
        "### Defining The Neural Network"
      ]
    },
    {
      "cell_type": "markdown",
      "metadata": {
        "id": "n-NR96UtFSkB"
      },
      "source": [
        "![](https://raw.githubusercontent.com/dmlc/web-data/master/mxnet/image/mlp_mnist.png)"
      ]
    },
    {
      "cell_type": "code",
      "execution_count": null,
      "metadata": {
        "id": "3WJXInzQGcAy",
        "colab": {
          "base_uri": "https://localhost:8080/"
        },
        "outputId": "a5559360-00d6-48a8-defa-609e24a950a3"
      },
      "outputs": [
        {
          "output_type": "stream",
          "name": "stdout",
          "text": [
            "Sequential(\n",
            "  (0): Linear(in_features=784, out_features=128, bias=True)\n",
            "  (1): ReLU()\n",
            "  (2): Linear(in_features=128, out_features=64, bias=True)\n",
            "  (3): ReLU()\n",
            "  (4): Linear(in_features=64, out_features=10, bias=True)\n",
            "  (5): LogSoftmax(dim=1)\n",
            ")\n"
          ]
        }
      ],
      "source": [
        "from torch import nn\n",
        "\n",
        "# Layer details for the neural network\n",
        "input_size = 784            # Input layer size (28x28 images flattened to 784 features)\n",
        "hidden_sizes = [128, 64]    # Two hidden layers with 128 and 64 neurons respectively\n",
        "output_size = 10            # Output layer size (10 classes for digits 0-9)\n",
        "\n",
        "# Build a feed-forward neural network using nn.Sequential\n",
        "model = nn.Sequential(\n",
        "    nn.Linear(input_size, hidden_sizes[0]),       # First hidden layer (784 -> 128)\n",
        "    nn.ReLU(),                                    # Activation function (ReLU) after first layer\n",
        "    nn.Linear(hidden_sizes[0], hidden_sizes[1]),  # Second hidden layer (128 -> 64)\n",
        "    nn.ReLU(),                                    # Activation function (ReLU) after second layer\n",
        "    nn.Linear(hidden_sizes[1], output_size),      # Output layer (64 -> 10)\n",
        "    nn.LogSoftmax(dim=1)                          # Log-Softmax for output probabilities across 10 classes\n",
        ")\n",
        "\n",
        "print(model)"
      ]
    },
    {
      "cell_type": "code",
      "execution_count": null,
      "metadata": {
        "id": "oxSLypv2LOD-"
      },
      "outputs": [],
      "source": [
        "# Define the loss function (criterion)\n",
        "criterion = nn.NLLLoss()\n",
        "# NLLLoss = Negative Log Likelihood Loss (used with LogSoftmax outputs)\n",
        "\n",
        "# Get a batch of training images and labels\n",
        "images, labels = next(iter(trainloader))\n",
        "\n",
        "# Flatten the images from (batch_size, 1, 28, 28) to (batch_size, 784) using view()\n",
        "images = images.view(images.shape[0], -1)\n",
        "\n",
        "# Forward pass: pass the images through the model to get log probabilities\n",
        "logps = model(images)\n",
        "\n",
        "# Calculate the loss between the model's predictions and the true labels\n",
        "loss = criterion(logps, labels)"
      ]
    },
    {
      "cell_type": "code",
      "execution_count": null,
      "metadata": {
        "id": "Pj4I2lLgLVWw"
      },
      "outputs": [],
      "source": [
        "# Print the gradient of the weights of the first layer BEFORE doing backpropagation\n",
        "print('Before backward pass: \\n', model[0].weight.grad)\n",
        "\n",
        "# Perform backpropagation to compute gradients\n",
        "loss.backward()\n",
        "\n",
        "# Print the gradient of the weights of the first layer AFTER backpropagation\n",
        "print('After backward pass: \\n', model[0].weight.grad)"
      ]
    },
    {
      "cell_type": "code",
      "execution_count": null,
      "metadata": {
        "id": "F0ZVHVbvI_yt"
      },
      "outputs": [],
      "source": [
        "from torch import optim\n",
        "\n",
        "# Optimizers require the parameters to optimize and a learning rate\n",
        "optimizer = optim.SGD(model.parameters(), lr=0.01, momentum=0.5)"
      ]
    },
    {
      "cell_type": "code",
      "execution_count": null,
      "metadata": {
        "id": "dS9JqXhhLdkr"
      },
      "outputs": [],
      "source": [
        "# Print the initial weights of the first linear layer before any training\n",
        "print('Initial weights - ', model[0].weight)\n",
        "\n",
        "# Get a batch of images and labels from the training data\n",
        "images, labels = next(iter(trainloader))\n",
        "\n",
        "# Reshape the images to match the input size of the network (flatten 28x28 to 784)\n",
        "images.resize_(64, 784)\n",
        "\n",
        "# Clear previously accumulated gradients (important because by default PyTorch accumulates gradients)\n",
        "optimizer.zero_grad()\n",
        "\n",
        "# Forward pass: compute the network output\n",
        "output = model(images)\n",
        "\n",
        "# Compute the loss between the predicted output and true labels\n",
        "loss = criterion(output, labels)\n",
        "\n",
        "# Backward pass: compute the gradients of the loss with respect to the weights\n",
        "loss.backward()\n",
        "\n",
        "# Print the computed gradients for the first layer's weights after backpropagation\n",
        "print('Gradient -', model[0].weight.grad)"
      ]
    },
    {
      "cell_type": "code",
      "execution_count": null,
      "metadata": {
        "id": "wy0KOQ95LgYN"
      },
      "outputs": [],
      "source": [
        "# Take an update step: adjust the model weights using the computed gradients\n",
        "optimizer.step()\n",
        "\n",
        "# Print the updated weights of the first linear layer after the optimizer step\n",
        "print('Updated weights - ', model[0].weight)"
      ]
    },
    {
      "cell_type": "markdown",
      "metadata": {
        "id": "wstRGu4FaJBe"
      },
      "source": [
        "### Training Of Neural Network"
      ]
    },
    {
      "cell_type": "code",
      "execution_count": null,
      "metadata": {
        "colab": {
          "background_save": true
        },
        "id": "XCsoAdjdLjPb"
      },
      "outputs": [],
      "source": [
        "# Define the optimizer: using Stochastic Gradient Descent (SGD) with learning rate 0.003 and momentum 0.9\n",
        "optimizer = optim.SGD(model.parameters(), lr=0.003, momentum=0.9)\n",
        "\n",
        "# Record the start time to measure how long training takes\n",
        "time0 = time()\n",
        "\n",
        "# Set the number of training epochs (full passes through the dataset)\n",
        "epochs = 15\n",
        "\n",
        "# Training loop\n",
        "for e in range(epochs):\n",
        "    running_loss = 0  # To track the loss during this epoch\n",
        "\n",
        "    for images, labels in trainloader:\n",
        "        # Flatten the MNIST images into a 784-dimensional vector\n",
        "        images = images.view(images.shape[0], -1)\n",
        "\n",
        "        # Clear the gradients to prevent accumulation from previous steps\n",
        "        optimizer.zero_grad()\n",
        "\n",
        "        # Forward pass: predict the labels\n",
        "        output = model(images)\n",
        "\n",
        "        # Compute the loss between predicted and true labels\n",
        "        loss = criterion(output, labels)\n",
        "\n",
        "        # Backward pass: compute the gradients\n",
        "        loss.backward()\n",
        "\n",
        "        # Update the weights using the optimizer\n",
        "        optimizer.step()\n",
        "\n",
        "        # Accumulate the running loss\n",
        "        running_loss += loss.item()\n",
        "\n",
        "    else:\n",
        "        # After the epoch, print the average training loss\n",
        "        print(\"Epoch {} - Training loss: {}\".format(e, running_loss/len(trainloader)))\n",
        "\n",
        "# After training, print total training time in minutes\n",
        "print(\"\\nTraining Time (in minutes) =\", (time()-time0)/60)"
      ]
    },
    {
      "cell_type": "code",
      "execution_count": null,
      "metadata": {
        "colab": {
          "background_save": true
        },
        "id": "75j9X1b6ME5K"
      },
      "outputs": [],
      "source": [
        "def view_classify(img, ps):\n",
        "    '''\n",
        "    Function for viewing an image and its predicted class probabilities.\n",
        "    Args:\n",
        "        img: a single image tensor\n",
        "        ps: output probabilities (predictions) from the model\n",
        "    '''\n",
        "\n",
        "    # Remove unnecessary dimensions and convert the tensor to a NumPy array\n",
        "    ps = ps.data.numpy().squeeze()\n",
        "\n",
        "    # Create a figure with two side-by-side subplots\n",
        "    fig, (ax1, ax2) = plt.subplots(figsize=(6, 9), ncols=2)\n",
        "\n",
        "    # Display the image on the first subplot\n",
        "    ax1.imshow(img.resize_(1, 28, 28).numpy().squeeze())  # Resize to (1,28,28) for visualization\n",
        "    ax1.axis('off')  # Hide axis lines and labels\n",
        "\n",
        "    # Display the class probabilities as a horizontal bar chart on the second subplot\n",
        "    ax2.barh(np.arange(10), ps)  # Create horizontal bars for each of the 10 classes\n",
        "    ax2.set_aspect(0.1)  # Set aspect ratio for better appearance\n",
        "    ax2.set_yticks(np.arange(10))  # Set y-axis ticks at class labels 0–9\n",
        "    ax2.set_yticklabels(np.arange(10))  # Label y-axis with the class numbers\n",
        "    ax2.set_title('Class Probability')  # Title for the probability plot\n",
        "    ax2.set_xlim(0, 1.1)  # Set x-axis range to show probabilities between 0 and 1.1\n",
        "\n",
        "    # Adjust the layout so the plots don't overlap\n",
        "    plt.tight_layout()\n"
      ]
    },
    {
      "cell_type": "code",
      "execution_count": null,
      "metadata": {
        "colab": {
          "background_save": true
        },
        "id": "Ie9Fffl_Mqp6"
      },
      "outputs": [],
      "source": [
        "# Get a batch of validation images and labels\n",
        "images, labels = next(iter(valloader))\n",
        "\n",
        "# Select the first image and reshape it into a vector of size (1, 784)\n",
        "img = images[0].view(1, 784)\n",
        "\n",
        "# Turn off gradient tracking for inference to make it faster and save memory\n",
        "with torch.no_grad():\n",
        "    # Pass the image through the model to get log-probabilities\n",
        "    logps = model(img)\n",
        "\n",
        "# Convert log-probabilities to actual probabilities\n",
        "ps = torch.exp(logps)\n",
        "\n",
        "# Convert the probabilities tensor to a list for easier handling\n",
        "probab = list(ps.numpy()[0])\n",
        "\n",
        "# Find the index (digit) with the highest probability\n",
        "print(\"Predicted Digit =\", probab.index(max(probab)))\n",
        "\n",
        "# Visualize the image along with the predicted class probabilities\n",
        "view_classify(img.view(1, 28, 28), ps)\n"
      ]
    },
    {
      "cell_type": "markdown",
      "metadata": {
        "id": "wAEvDtiaM6RQ"
      },
      "source": [
        "### Model Evaluation"
      ]
    },
    {
      "cell_type": "markdown",
      "metadata": {
        "id": "C7FBkpNpT7pS"
      },
      "source": [
        "We will evaluate the model on the test dataset and visualize some predictions.\n"
      ]
    },
    {
      "cell_type": "code",
      "execution_count": null,
      "metadata": {
        "colab": {
          "background_save": true
        },
        "id": "5sBPmaBONPkT"
      },
      "outputs": [],
      "source": [
        "# Initialize counters for correct predictions and total predictions\n",
        "correct_count, all_count = 0, 0\n",
        "\n",
        "# Loop through all validation images and labels\n",
        "for images, labels in valloader:\n",
        "    # Loop through each image in the batch\n",
        "    for i in range(len(labels)):\n",
        "        # Flatten the image into a vector of size (1, 784)\n",
        "        img = images[i].view(1, 784)\n",
        "\n",
        "        # Turn off gradients during inference for efficiency\n",
        "        with torch.no_grad():\n",
        "            # Get the log-probabilities from the model\n",
        "            logps = model(img)\n",
        "\n",
        "        # Convert log-probabilities to normal probabilities\n",
        "        ps = torch.exp(logps)\n",
        "\n",
        "        # Get the probabilities as a list\n",
        "        probab = list(ps.numpy()[0])\n",
        "\n",
        "        # Get the predicted label (class with the highest probability)\n",
        "        pred_label = probab.index(max(probab))\n",
        "\n",
        "        # Get the true label\n",
        "        true_label = labels.numpy()[i]\n",
        "\n",
        "        # Compare prediction to the true label\n",
        "        if true_label == pred_label:\n",
        "            correct_count += 1\n",
        "        all_count += 1\n",
        "\n",
        "# Print the total number of images tested\n",
        "print(\"Number Of Images Tested =\", all_count)\n",
        "\n",
        "# Calculate and print the accuracy of the model\n",
        "print(\"\\nModel Accuracy =\", (correct_count / all_count))"
      ]
    },
    {
      "cell_type": "markdown",
      "metadata": {
        "id": "ESsgoRUHT9xv"
      },
      "source": [
        "### Conclusion\n",
        "\n",
        "In this notebook, we successfully built and trained a simple neural network using PyTorch to recognize handwritten digits. This introduction to PyTorch provides the foundation for more complex models and deeper exploration.\n"
      ]
    }
  ],
  "metadata": {
    "accelerator": "GPU",
    "colab": {
      "gpuType": "T4",
      "provenance": []
    },
    "kernelspec": {
      "display_name": "Python 3",
      "name": "python3"
    }
  },
  "nbformat": 4,
  "nbformat_minor": 0
}